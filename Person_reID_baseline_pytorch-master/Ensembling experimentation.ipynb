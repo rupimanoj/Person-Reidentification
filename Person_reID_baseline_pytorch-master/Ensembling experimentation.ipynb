{
 "cells": [
  {
   "cell_type": "code",
   "execution_count": 9,
   "metadata": {},
   "outputs": [],
   "source": [
    "import os\n",
    "import torch\n",
    "import scipy.io\n",
    "import argparse\n",
    "import pandas as pd\n",
    "import numpy as np"
   ]
  },
  {
   "cell_type": "code",
   "execution_count": 10,
   "metadata": {},
   "outputs": [],
   "source": [
    "def compute_mAP(index, good_index, junk_index):\n",
    "    ap = 0\n",
    "    cmc = torch.IntTensor(len(index)).zero_()\n",
    "    if good_index.size == 0:\n",
    "        cmc[0] = -1\n",
    "        return ap, cmc\n",
    "\n",
    "    # remove junk_index\n",
    "    mask = np.in1d(index, junk_index, invert=True)\n",
    "    index = index[mask]\n",
    "\n",
    "    # find good_index index\n",
    "    ngood = len(good_index)\n",
    "    mask = np.in1d(index, good_index)\n",
    "    rows_good = np.argwhere(mask == True)\n",
    "    rows_good = rows_good.flatten()\n",
    "\n",
    "    cmc[rows_good[0]:] = 1\n",
    "    for i in range(ngood):\n",
    "        d_recall = 1.0 / ngood\n",
    "        precision = (i + 1) * 1.0 / (rows_good[i] + 1)\n",
    "        if rows_good[i] != 0:\n",
    "            old_precision = i * 1.0 / rows_good[i]\n",
    "        else:\n",
    "            old_precision = 1.0\n",
    "        ap = ap + d_recall * (old_precision + precision) / 2\n",
    "\n",
    "    return ap, cmc[:20]"
   ]
  },
  {
   "cell_type": "code",
   "execution_count": 11,
   "metadata": {},
   "outputs": [],
   "source": [
    "def evaluate(score, ql, qc, gl, gc):\n",
    "    # predict index sort from small to large\n",
    "    index = np.argsort(score)[::-1]\n",
    "    # good index\n",
    "    query_index = np.argwhere(gl == ql)\n",
    "    camera_index = np.argwhere(gc == qc)\n",
    "    good_index = np.setdiff1d(query_index, camera_index, assume_unique=True)\n",
    "    #print(good_index)\n",
    "    junk_index1 = np.argwhere(gl == -1)\n",
    "    junk_index2 = np.intersect1d(query_index, camera_index)\n",
    "    junk_index = np.append(junk_index2, junk_index1)\n",
    "    #print(junk_index)\n",
    "    top_labels = []\n",
    "    actual_labels = []\n",
    "    for val in index[:10]:\n",
    "        top_labels.append(gl[val])\n",
    "    for val in good_index:\n",
    "        actual_labels.append(gl[val])\n",
    "    #print(index[:10], top_labels)\n",
    "    return compute_mAP(index, good_index, junk_index)\n"
   ]
  },
  {
   "cell_type": "code",
   "execution_count": 13,
   "metadata": {},
   "outputs": [],
   "source": [
    "torch.cuda.set_device(0)\n",
    "logPath = '../../data/Market/extracted_dense_attr_64_color'\n",
    "labelPath = '../../data/Market/extracted_dense_attr_64_color'\n",
    "logPath2 = '../../data/Market/extracted_dense_attr_64_color_erasing'\n",
    "labelPath2 = '../../data/Market/extracted_dense_attr_64_color_erasing'\n",
    "logPath3 = '../../data/Market/extracted_3'\n",
    "labelPath3 = '../../data/Market/extracted_3'\n",
    "\n",
    "logFile = {subset: scipy.io.loadmat(os.path.join(logPath, 'feature_val_%s.mat' % subset))\n",
    "           for subset in ['query', 'gallery']}\n",
    "labelDict = {subset: pd.read_csv(os.path.join(labelPath, subset + 'Info.txt'), header=None,\n",
    "                                 delimiter='\\t').set_index(0)[1].to_dict() for subset in ['query', 'gallery']}\n",
    "\n",
    "logFile2 = {subset: scipy.io.loadmat(os.path.join(logPath2, 'feature_val_%s.mat' % subset))\n",
    "           for subset in ['query', 'gallery']}\n",
    "labelDict2 = {subset: pd.read_csv(os.path.join(labelPath2, subset + 'Info.txt'), header=None,\n",
    "                                 delimiter='\\t').set_index(0)[1].to_dict() for subset in ['query', 'gallery']}\n",
    "logFile3 = {subset: scipy.io.loadmat(os.path.join(logPath3, 'feature_val_%s.mat' % subset))\n",
    "           for subset in ['query', 'gallery']}\n",
    "labelDict3 = {subset: pd.read_csv(os.path.join(labelPath3, subset + 'Info.txt'), header=None,\n",
    "                                 delimiter='\\t').set_index(0)[1].to_dict() for subset in ['query', 'gallery']}\n",
    "\n",
    "names = {subset: logFile[subset]['names'] for subset in ['query', 'gallery']}\n",
    "labels = {subset: np.array([labelDict[subset][name] for name in names[subset]]) for subset in ['query', 'gallery']}\n",
    "features = {subset: torch.FloatTensor(logFile[subset]['features']).cuda() for subset in ['query', 'gallery']}\n",
    "\n",
    "names2 = {subset: logFile2[subset]['names'] for subset in ['query', 'gallery']}\n",
    "labels2 = {subset: np.array([labelDict2[subset][name] for name in names[subset]]) for subset in ['query', 'gallery']}\n",
    "features2 = {subset: torch.FloatTensor(logFile2[subset]['features']).cuda() for subset in ['query', 'gallery']}\n",
    "\n",
    "names3 = {subset: logFile3[subset]['names'] for subset in ['query', 'gallery']}\n",
    "labels3 = {subset: np.array([labelDict3[subset][name] for name in names[subset]]) for subset in ['query', 'gallery']}\n",
    "features3 = {subset: torch.FloatTensor(logFile3[subset]['features']).cuda() for subset in ['query', 'gallery']}"
   ]
  },
  {
   "cell_type": "code",
   "execution_count": 14,
   "metadata": {},
   "outputs": [
    {
     "name": "stdout",
     "output_type": "stream",
     "text": [
      "top1: 0.9267, top5: 0.9733, top10: 0.9933, mAP: 0.8286\n"
     ]
    }
   ],
   "source": [
    "CMC = torch.IntTensor(20).zero_()\n",
    "ap = 0.0\n",
    "ap_map_values = dict()\n",
    "for i in range(len(labels['query'])):\n",
    "    score = torch.mm(features['gallery'], (features['query'][i]).view(-1, 1))\n",
    "    score = score.squeeze(1).cpu().numpy()\n",
    "    ap_tmp, CMC_tmp = evaluate(score, labels['query'][i], [], labels['gallery'], [])\n",
    "    ap_map_values[labels['query'][i]] = ap_tmp\n",
    "    if CMC_tmp[0] == -1:\n",
    "            continue\n",
    "    CMC += CMC_tmp\n",
    "    ap += ap_tmp\n",
    "CMC = CMC.float()\n",
    "CMC /= len(labels['query'])\n",
    "ap /= len(labels['query'])\n",
    "print('top1: %.4f, top5: %.4f, top10: %.4f, mAP: %.4f' % (CMC[0], CMC[4], CMC[9], ap))"
   ]
  },
  {
   "cell_type": "code",
   "execution_count": 15,
   "metadata": {},
   "outputs": [
    {
     "name": "stdout",
     "output_type": "stream",
     "text": [
      "top1: 0.9467, top5: 0.9667, top10: 0.9800, mAP: 0.8352\n"
     ]
    }
   ],
   "source": [
    "CMC = torch.IntTensor(20).zero_()\n",
    "ap = 0.0\n",
    "ap_map_values = dict()\n",
    "for i in range(len(labels['query'])):\n",
    "    score = torch.mm(features2['gallery'], (features2['query'][i]).view(-1, 1))\n",
    "    score = score.squeeze(1).cpu().numpy()\n",
    "    ap_tmp, CMC_tmp = evaluate(score, labels2['query'][i], [], labels2['gallery'], [])\n",
    "    ap_map_values[labels2['query'][i]] = ap_tmp\n",
    "    if CMC_tmp[0] == -1:\n",
    "            continue\n",
    "    CMC += CMC_tmp\n",
    "    ap += ap_tmp\n",
    "CMC = CMC.float()\n",
    "CMC /= len(labels2['query'])\n",
    "ap /= len(labels2['query'])\n",
    "print('top1: %.4f, top5: %.4f, top10: %.4f, mAP: %.4f' % (CMC[0], CMC[4], CMC[9], ap))"
   ]
  },
  {
   "cell_type": "code",
   "execution_count": 16,
   "metadata": {},
   "outputs": [
    {
     "name": "stdout",
     "output_type": "stream",
     "text": [
      "top1: 0.8733, top5: 0.9467, top10: 0.9600, mAP: 0.7757\n"
     ]
    }
   ],
   "source": [
    "CMC = torch.IntTensor(20).zero_()\n",
    "ap = 0.0\n",
    "ap_map_values = dict()\n",
    "for i in range(len(labels3['query'])):\n",
    "    score = torch.mm(features3['gallery'], (features3['query'][i]).view(-1, 1))\n",
    "    score = score.squeeze(1).cpu().numpy()\n",
    "    ap_tmp, CMC_tmp = evaluate(score, labels3['query'][i], [], labels3['gallery'], [])\n",
    "    ap_map_values[labels3['query'][i]] = ap_tmp\n",
    "    if CMC_tmp[0] == -1:\n",
    "            continue\n",
    "    CMC += CMC_tmp\n",
    "    ap += ap_tmp\n",
    "CMC = CMC.float()\n",
    "CMC /= len(labels3['query'])\n",
    "ap /= len(labels3['query'])\n",
    "print('top1: %.4f, top5: %.4f, top10: %.4f, mAP: %.4f' % (CMC[0], CMC[4], CMC[9], ap))"
   ]
  },
  {
   "cell_type": "code",
   "execution_count": 17,
   "metadata": {},
   "outputs": [
    {
     "name": "stdout",
     "output_type": "stream",
     "text": [
      "top1: 0.9133, top5: 0.9733, top10: 0.9933, mAP: 0.8349\n"
     ]
    }
   ],
   "source": [
    "CMC = torch.IntTensor(20).zero_()\n",
    "ap = 0.0\n",
    "ap_map_values = dict()\n",
    "for i in range(len(labels['query'])):\n",
    "    gallery_tensor =  features2['gallery'] + features['gallery']\n",
    "    query_tensor =   features2['query'][i] + features['query'][i]\n",
    "    score = torch.mm(gallery_tensor, query_tensor.view(-1, 1))\n",
    "    score = score.squeeze(1).cpu().numpy()\n",
    "    ap_tmp, CMC_tmp = evaluate(score, labels2['query'][i], [], labels2['gallery'], [])\n",
    "    ap_map_values[labels2['query'][i]] = ap_tmp\n",
    "    if CMC_tmp[0] == -1:\n",
    "            continue\n",
    "    CMC += CMC_tmp\n",
    "    ap += ap_tmp\n",
    "CMC = CMC.float()\n",
    "CMC /= len(labels2['query'])\n",
    "ap /= len(labels2['query'])\n",
    "print('top1: %.4f, top5: %.4f, top10: %.4f, mAP: %.4f' % (CMC[0], CMC[4], CMC[9], ap))"
   ]
  },
  {
   "cell_type": "code",
   "execution_count": null,
   "metadata": {},
   "outputs": [],
   "source": []
  }
 ],
 "metadata": {
  "kernelspec": {
   "display_name": "Python 3",
   "language": "python",
   "name": "python3"
  },
  "language_info": {
   "codemirror_mode": {
    "name": "ipython",
    "version": 3
   },
   "file_extension": ".py",
   "mimetype": "text/x-python",
   "name": "python",
   "nbconvert_exporter": "python",
   "pygments_lexer": "ipython3",
   "version": "3.7.0"
  }
 },
 "nbformat": 4,
 "nbformat_minor": 2
}
