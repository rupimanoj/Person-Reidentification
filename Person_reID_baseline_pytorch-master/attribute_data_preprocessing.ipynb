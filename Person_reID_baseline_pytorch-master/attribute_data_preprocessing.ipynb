{
 "cells": [
  {
   "cell_type": "code",
   "execution_count": 1,
   "metadata": {
    "ExecuteTime": {
     "end_time": "2018-11-21T03:31:31.090365Z",
     "start_time": "2018-11-21T03:31:30.958100Z"
    },
    "collapsed": true
   },
   "outputs": [],
   "source": [
    "from load_mat_file import get_data\n",
    "import numpy as np"
   ]
  },
  {
   "cell_type": "code",
   "execution_count": 2,
   "metadata": {
    "ExecuteTime": {
     "end_time": "2018-11-21T03:31:31.134103Z",
     "start_time": "2018-11-21T03:31:31.091728Z"
    }
   },
   "outputs": [],
   "source": [
    "x = get_data('market_attribute.mat')"
   ]
  },
  {
   "cell_type": "code",
   "execution_count": 3,
   "metadata": {
    "ExecuteTime": {
     "end_time": "2018-11-21T03:31:31.264622Z",
     "start_time": "2018-11-21T03:31:31.135490Z"
    }
   },
   "outputs": [
    {
     "data": {
      "text/plain": [
       "('age',\n",
       " 'backpack',\n",
       " 'bag',\n",
       " 'handbag',\n",
       " 'downblack',\n",
       " 'downblue',\n",
       " 'downbrown',\n",
       " 'downgray',\n",
       " 'downgreen',\n",
       " 'downpink',\n",
       " 'downpurple',\n",
       " 'downwhite',\n",
       " 'downyellow',\n",
       " 'upblack',\n",
       " 'upblue',\n",
       " 'upgreen',\n",
       " 'upgray',\n",
       " 'uppurple',\n",
       " 'upred',\n",
       " 'upwhite',\n",
       " 'upyellow',\n",
       " 'clothes',\n",
       " 'down',\n",
       " 'up',\n",
       " 'hair',\n",
       " 'hat',\n",
       " 'gender')"
      ]
     },
     "execution_count": 3,
     "metadata": {},
     "output_type": "execute_result"
    }
   ],
   "source": [
    "x[1]"
   ]
  },
  {
   "cell_type": "code",
   "execution_count": 4,
   "metadata": {
    "ExecuteTime": {
     "end_time": "2018-11-21T03:31:31.359047Z",
     "start_time": "2018-11-21T03:31:31.268357Z"
    }
   },
   "outputs": [
    {
     "data": {
      "text/plain": [
       "(1501, 27)"
      ]
     },
     "execution_count": 4,
     "metadata": {},
     "output_type": "execute_result"
    }
   ],
   "source": [
    "x[0].shape"
   ]
  },
  {
   "cell_type": "code",
   "execution_count": 5,
   "metadata": {
    "ExecuteTime": {
     "end_time": "2018-11-21T03:31:31.497182Z",
     "start_time": "2018-11-21T03:31:31.364214Z"
    },
    "collapsed": true
   },
   "outputs": [],
   "source": [
    "for i in range(x[0].shape[0]):\n",
    "        x[0][i] = x[0][i] - 1"
   ]
  },
  {
   "cell_type": "code",
   "execution_count": 6,
   "metadata": {
    "ExecuteTime": {
     "end_time": "2018-11-21T03:31:31.664346Z",
     "start_time": "2018-11-21T03:31:31.501374Z"
    },
    "collapsed": true
   },
   "outputs": [],
   "source": [
    "for i in range(x[0].shape[0]):\n",
    "    for j in range(4,13):\n",
    "        if(x[0][i][j]==1):\n",
    "            x[0][i][4] = j-4"
   ]
  },
  {
   "cell_type": "code",
   "execution_count": 7,
   "metadata": {
    "ExecuteTime": {
     "end_time": "2018-11-21T03:31:31.814209Z",
     "start_time": "2018-11-21T03:31:31.665884Z"
    },
    "collapsed": true
   },
   "outputs": [],
   "source": [
    "for i in range(x[0].shape[0]):\n",
    "    for j in range(13,21):\n",
    "        if(x[0][i][j]==1):\n",
    "            x[0][i][13] = j-13"
   ]
  },
  {
   "cell_type": "code",
   "execution_count": 8,
   "metadata": {
    "ExecuteTime": {
     "end_time": "2018-11-21T03:31:31.981813Z",
     "start_time": "2018-11-21T03:31:31.816085Z"
    }
   },
   "outputs": [
    {
     "data": {
      "text/plain": [
       "array([1, 0, 1, 0, 0, 0, 0, 0, 0, 0, 0, 0, 0, 6, 0, 0, 0, 0, 0, 1, 0, 1,\n",
       "       1, 1, 0, 0, 0], dtype=uint8)"
      ]
     },
     "execution_count": 8,
     "metadata": {},
     "output_type": "execute_result"
    }
   ],
   "source": [
    "x[0][0]"
   ]
  },
  {
   "cell_type": "code",
   "execution_count": 9,
   "metadata": {
    "ExecuteTime": {
     "end_time": "2018-11-21T03:31:32.067640Z",
     "start_time": "2018-11-21T03:31:31.986596Z"
    },
    "collapsed": true
   },
   "outputs": [],
   "source": [
    "x[0][:,5] = x[0][:,13]"
   ]
  },
  {
   "cell_type": "code",
   "execution_count": 10,
   "metadata": {
    "ExecuteTime": {
     "end_time": "2018-11-21T03:31:32.204320Z",
     "start_time": "2018-11-21T03:31:32.071995Z"
    }
   },
   "outputs": [
    {
     "data": {
      "text/plain": [
       "array([1, 0, 1, 0, 0, 6, 0, 0, 0, 0, 0, 0, 0, 6, 0, 0, 0, 0, 0, 1, 0, 1,\n",
       "       1, 1, 0, 0, 0], dtype=uint8)"
      ]
     },
     "execution_count": 10,
     "metadata": {},
     "output_type": "execute_result"
    }
   ],
   "source": [
    "x[0][0]"
   ]
  },
  {
   "cell_type": "code",
   "execution_count": 11,
   "metadata": {
    "ExecuteTime": {
     "end_time": "2018-11-21T03:31:32.289729Z",
     "start_time": "2018-11-21T03:31:32.208369Z"
    },
    "collapsed": true
   },
   "outputs": [],
   "source": [
    "x[0][:,6:12] = x[0][:,21:]"
   ]
  },
  {
   "cell_type": "code",
   "execution_count": 12,
   "metadata": {
    "ExecuteTime": {
     "end_time": "2018-11-21T03:31:32.437857Z",
     "start_time": "2018-11-21T03:31:32.293021Z"
    }
   },
   "outputs": [
    {
     "data": {
      "text/plain": [
       "array([1, 0, 1, 0, 0, 6, 1, 1, 1, 0, 0, 0, 0, 6, 0, 0, 0, 0, 0, 1, 0, 1,\n",
       "       1, 1, 0, 0, 0], dtype=uint8)"
      ]
     },
     "execution_count": 12,
     "metadata": {},
     "output_type": "execute_result"
    }
   ],
   "source": [
    "x[0][0]"
   ]
  },
  {
   "cell_type": "code",
   "execution_count": 13,
   "metadata": {
    "ExecuteTime": {
     "end_time": "2018-11-21T03:31:32.556664Z",
     "start_time": "2018-11-21T03:31:32.441928Z"
    },
    "collapsed": true
   },
   "outputs": [],
   "source": [
    "y = x[0][:,:12]"
   ]
  },
  {
   "cell_type": "code",
   "execution_count": 14,
   "metadata": {
    "ExecuteTime": {
     "end_time": "2018-11-21T03:31:32.689977Z",
     "start_time": "2018-11-21T03:31:32.560322Z"
    },
    "collapsed": true
   },
   "outputs": [],
   "source": [
    "labels = []"
   ]
  },
  {
   "cell_type": "code",
   "execution_count": 15,
   "metadata": {
    "ExecuteTime": {
     "end_time": "2018-11-21T03:31:32.823289Z",
     "start_time": "2018-11-21T03:31:32.693747Z"
    },
    "collapsed": true
   },
   "outputs": [],
   "source": [
    "for i in x[1][:4]:\n",
    "    labels.append(i)"
   ]
  },
  {
   "cell_type": "code",
   "execution_count": 16,
   "metadata": {
    "ExecuteTime": {
     "end_time": "2018-11-21T03:31:32.938404Z",
     "start_time": "2018-11-21T03:31:32.826895Z"
    }
   },
   "outputs": [
    {
     "data": {
      "text/plain": [
       "['age', 'backpack', 'bag', 'handbag']"
      ]
     },
     "execution_count": 16,
     "metadata": {},
     "output_type": "execute_result"
    }
   ],
   "source": [
    "labels"
   ]
  },
  {
   "cell_type": "code",
   "execution_count": 17,
   "metadata": {
    "ExecuteTime": {
     "end_time": "2018-11-21T03:31:33.078837Z",
     "start_time": "2018-11-21T03:31:32.943000Z"
    },
    "collapsed": true
   },
   "outputs": [],
   "source": [
    "labels.append('downcolor')\n",
    "labels.append('upcolor')"
   ]
  },
  {
   "cell_type": "code",
   "execution_count": 18,
   "metadata": {
    "ExecuteTime": {
     "end_time": "2018-11-21T03:31:33.190318Z",
     "start_time": "2018-11-21T03:31:33.082636Z"
    },
    "collapsed": true
   },
   "outputs": [],
   "source": [
    "for i in x[1][21:]:\n",
    "    labels.append(i)"
   ]
  },
  {
   "cell_type": "code",
   "execution_count": 19,
   "metadata": {
    "ExecuteTime": {
     "end_time": "2018-11-21T03:31:33.326405Z",
     "start_time": "2018-11-21T03:31:33.194024Z"
    }
   },
   "outputs": [
    {
     "data": {
      "text/plain": [
       "['age',\n",
       " 'backpack',\n",
       " 'bag',\n",
       " 'handbag',\n",
       " 'downcolor',\n",
       " 'upcolor',\n",
       " 'clothes',\n",
       " 'down',\n",
       " 'up',\n",
       " 'hair',\n",
       " 'hat',\n",
       " 'gender']"
      ]
     },
     "execution_count": 19,
     "metadata": {},
     "output_type": "execute_result"
    }
   ],
   "source": [
    "labels"
   ]
  },
  {
   "cell_type": "code",
   "execution_count": 20,
   "metadata": {
    "ExecuteTime": {
     "end_time": "2018-11-21T03:31:33.434009Z",
     "start_time": "2018-11-21T03:31:33.330178Z"
    },
    "collapsed": true
   },
   "outputs": [],
   "source": [
    "downcolor = []\n",
    "for i in x[1][4:13]:\n",
    "    downcolor.append(i)"
   ]
  },
  {
   "cell_type": "code",
   "execution_count": 21,
   "metadata": {
    "ExecuteTime": {
     "end_time": "2018-11-21T03:31:33.567638Z",
     "start_time": "2018-11-21T03:31:33.437467Z"
    },
    "collapsed": true
   },
   "outputs": [],
   "source": [
    "upcolor = []\n",
    "for i in x[1][13:21]:\n",
    "    upcolor.append(i)"
   ]
  },
  {
   "cell_type": "code",
   "execution_count": 22,
   "metadata": {
    "ExecuteTime": {
     "end_time": "2018-11-21T03:31:33.690047Z",
     "start_time": "2018-11-21T03:31:33.572310Z"
    }
   },
   "outputs": [
    {
     "data": {
      "text/plain": [
       "['downblack',\n",
       " 'downblue',\n",
       " 'downbrown',\n",
       " 'downgray',\n",
       " 'downgreen',\n",
       " 'downpink',\n",
       " 'downpurple',\n",
       " 'downwhite',\n",
       " 'downyellow']"
      ]
     },
     "execution_count": 22,
     "metadata": {},
     "output_type": "execute_result"
    }
   ],
   "source": [
    "downcolor"
   ]
  },
  {
   "cell_type": "code",
   "execution_count": 23,
   "metadata": {
    "ExecuteTime": {
     "end_time": "2018-11-21T03:31:33.881440Z",
     "start_time": "2018-11-21T03:31:33.692112Z"
    }
   },
   "outputs": [
    {
     "data": {
      "text/plain": [
       "['upblack',\n",
       " 'upblue',\n",
       " 'upgreen',\n",
       " 'upgray',\n",
       " 'uppurple',\n",
       " 'upred',\n",
       " 'upwhite',\n",
       " 'upyellow']"
      ]
     },
     "execution_count": 23,
     "metadata": {},
     "output_type": "execute_result"
    }
   ],
   "source": [
    "upcolor"
   ]
  },
  {
   "cell_type": "code",
   "execution_count": 24,
   "metadata": {
    "ExecuteTime": {
     "end_time": "2018-11-21T03:31:34.004769Z",
     "start_time": "2018-11-21T03:31:33.886406Z"
    },
    "collapsed": true
   },
   "outputs": [],
   "source": [
    "np.save('attribute_data.npy',y)"
   ]
  },
  {
   "cell_type": "code",
   "execution_count": 25,
   "metadata": {
    "ExecuteTime": {
     "end_time": "2018-11-21T03:31:34.137349Z",
     "start_time": "2018-11-21T03:31:34.009027Z"
    },
    "collapsed": true
   },
   "outputs": [],
   "source": [
    "np.save('labels.npy',labels)\n",
    "np.save('downcolor.npy',downcolor)\n",
    "np.save('upcolor.npy',upcolor)"
   ]
  },
  {
   "cell_type": "code",
   "execution_count": null,
   "metadata": {
    "collapsed": true
   },
   "outputs": [],
   "source": []
  }
 ],
 "metadata": {
  "kernelspec": {
   "display_name": "Python 3",
   "language": "python",
   "name": "python3"
  },
  "language_info": {
   "codemirror_mode": {
    "name": "ipython",
    "version": 3
   },
   "file_extension": ".py",
   "mimetype": "text/x-python",
   "name": "python",
   "nbconvert_exporter": "python",
   "pygments_lexer": "ipython3",
   "version": "3.5.4"
  },
  "toc": {
   "nav_menu": {},
   "number_sections": true,
   "sideBar": true,
   "skip_h1_title": false,
   "toc_cell": false,
   "toc_position": {},
   "toc_section_display": "block",
   "toc_window_display": false
  }
 },
 "nbformat": 4,
 "nbformat_minor": 2
}
