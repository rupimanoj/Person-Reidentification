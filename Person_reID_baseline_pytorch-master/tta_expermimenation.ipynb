{
 "cells": [
  {
   "cell_type": "code",
   "execution_count": 1,
   "metadata": {},
   "outputs": [],
   "source": [
    "import os\n",
    "import torch\n",
    "import scipy.io\n",
    "import argparse\n",
    "import pandas as pd\n",
    "import numpy as np"
   ]
  },
  {
   "cell_type": "code",
   "execution_count": 50,
   "metadata": {},
   "outputs": [],
   "source": [
    "def compute_mAP(index, good_index, junk_index):\n",
    "    ap = 0\n",
    "    cmc = torch.IntTensor(len(index)).zero_()\n",
    "    if good_index.size == 0:\n",
    "        cmc[0] = -1\n",
    "        return ap, cmc\n",
    "\n",
    "    # remove junk_index\n",
    "    mask = np.in1d(index, junk_index, invert=True)\n",
    "    index = index[mask]\n",
    "\n",
    "    # find good_index index\n",
    "    ngood = len(good_index)\n",
    "    mask = np.in1d(index, good_index)\n",
    "    rows_good = np.argwhere(mask == True)\n",
    "    rows_good = rows_good.flatten()\n",
    "\n",
    "    cmc[rows_good[0]:] = 1\n",
    "    for i in range(ngood):\n",
    "        d_recall = 1.0 / ngood\n",
    "        precision = (i + 1) * 1.0 / (rows_good[i] + 1)\n",
    "        if rows_good[i] != 0:\n",
    "            old_precision = i * 1.0 / rows_good[i]\n",
    "        else:\n",
    "            old_precision = 1.0\n",
    "        ap = ap + d_recall * (old_precision + precision) / 2\n",
    "\n",
    "    return ap, cmc[:20]"
   ]
  },
  {
   "cell_type": "code",
   "execution_count": 1,
   "metadata": {},
   "outputs": [],
   "source": [
    "def evaluate(score, ql, qc, gl, gc):\n",
    "    # predict index sort from small to large\n",
    "    index = np.argsort(score)[::-1]\n",
    "    # good index\n",
    "    query_index = np.argwhere(gl == ql)\n",
    "    camera_index = np.argwhere(gc == qc)\n",
    "    good_index = np.setdiff1d(query_index, camera_index, assume_unique=True)\n",
    "    #print(good_index)\n",
    "    junk_index1 = np.argwhere(gl == -1)\n",
    "    junk_index2 = np.intersect1d(query_index, camera_index)\n",
    "    junk_index = np.append(junk_index2, junk_index1)\n",
    "    #print(junk_index)\n",
    "    top_labels = []\n",
    "    actual_labels = []\n",
    "    for val in index[:10]:\n",
    "        top_labels.append(gl[val])\n",
    "    for val in good_index:\n",
    "        actual_labels.append(gl[val])\n",
    "    print(index[:10], top_labels)\n",
    "    return compute_mAP(index, good_index, junk_index)\n"
   ]
  },
  {
   "cell_type": "code",
   "execution_count": 2,
   "metadata": {},
   "outputs": [
    {
     "ename": "NameError",
     "evalue": "name 'torch' is not defined",
     "output_type": "error",
     "traceback": [
      "\u001b[0;31m---------------------------------------------------------------------------\u001b[0m",
      "\u001b[0;31mNameError\u001b[0m                                 Traceback (most recent call last)",
      "\u001b[0;32m<ipython-input-2-f691381f59e6>\u001b[0m in \u001b[0;36m<module>\u001b[0;34m\u001b[0m\n\u001b[0;32m----> 1\u001b[0;31m \u001b[0mtorch\u001b[0m\u001b[0;34m.\u001b[0m\u001b[0mcuda\u001b[0m\u001b[0;34m.\u001b[0m\u001b[0mset_device\u001b[0m\u001b[0;34m(\u001b[0m\u001b[0;36m0\u001b[0m\u001b[0;34m)\u001b[0m\u001b[0;34m\u001b[0m\u001b[0m\n\u001b[0m\u001b[1;32m      2\u001b[0m \u001b[0mlogPath\u001b[0m \u001b[0;34m=\u001b[0m \u001b[0;34m'../../data/Market/extracted'\u001b[0m\u001b[0;34m\u001b[0m\u001b[0m\n\u001b[1;32m      3\u001b[0m \u001b[0mlabelPath\u001b[0m \u001b[0;34m=\u001b[0m \u001b[0;34m'../../data/Market/extracted'\u001b[0m\u001b[0;34m\u001b[0m\u001b[0m\n\u001b[1;32m      4\u001b[0m \u001b[0;34m\u001b[0m\u001b[0m\n\u001b[1;32m      5\u001b[0m logFile = {subset: scipy.io.loadmat(os.path.join(logPath, 'feature_val_%s.mat' % subset))\n",
      "\u001b[0;31mNameError\u001b[0m: name 'torch' is not defined"
     ]
    }
   ],
   "source": [
    "torch.cuda.set_device(0)\n",
    "logPath = '../../data/Market/extracted'\n",
    "labelPath = '../../data/Market/extracted'\n",
    "\n",
    "logFile = {subset: scipy.io.loadmat(os.path.join(logPath, 'feature_val_%s.mat' % subset))\n",
    "           for subset in ['query', 'gallery']}\n",
    "logFile_uc = {subset: scipy.io.loadmat(os.path.join(logPath, 'feature_uc_val_%s.mat' % subset))\n",
    "           for subset in ['query', 'gallery']}\n",
    "labelDict = {subset: pd.read_csv(os.path.join(labelPath, subset + 'Info.txt'), header=None,\n",
    "                                 delimiter='\\t').set_index(0)[1].to_dict() for subset in ['query', 'gallery']}\n",
    "\n",
    "names = {subset: logFile[subset]['names'] for subset in ['query', 'gallery']}\n",
    "names_uc = {subset: logFile_uc[subset]['names'] for subset in ['query', 'gallery']}\n",
    "labels = {subset: np.array([labelDict[subset][name] for name in names[subset]]) for subset in ['query', 'gallery']}\n",
    "labels_uc = {subset: np.array([labelDict[subset][name] for name in names_uc[subset]]) for subset in ['query', 'gallery']}\n",
    "features = {subset: torch.FloatTensor(logFile[subset]['features']).cuda() for subset in ['query', 'gallery']}\n",
    "features_uc = {subset: torch.FloatTensor(logFile_uc[subset]['features']).cuda() for subset in ['query', 'gallery']}"
   ]
  },
  {
   "cell_type": "code",
   "execution_count": 3,
   "metadata": {},
   "outputs": [
    {
     "ename": "NameError",
     "evalue": "name 'names' is not defined",
     "output_type": "error",
     "traceback": [
      "\u001b[0;31m---------------------------------------------------------------------------\u001b[0m",
      "\u001b[0;31mNameError\u001b[0m                                 Traceback (most recent call last)",
      "\u001b[0;32m<ipython-input-3-4c6a235014b2>\u001b[0m in \u001b[0;36m<module>\u001b[0;34m\u001b[0m\n\u001b[0;32m----> 1\u001b[0;31m \u001b[0mprint\u001b[0m\u001b[0;34m(\u001b[0m\u001b[0mnames\u001b[0m\u001b[0;34m[\u001b[0m\u001b[0;34m'query'\u001b[0m\u001b[0;34m]\u001b[0m\u001b[0;34m[\u001b[0m\u001b[0;34m:\u001b[0m\u001b[0;36m10\u001b[0m\u001b[0;34m]\u001b[0m\u001b[0;34m,\u001b[0m \u001b[0mnames_uc\u001b[0m\u001b[0;34m[\u001b[0m\u001b[0;34m'query'\u001b[0m\u001b[0;34m]\u001b[0m\u001b[0;34m[\u001b[0m\u001b[0;34m:\u001b[0m\u001b[0;36m10\u001b[0m\u001b[0;34m]\u001b[0m\u001b[0;34m)\u001b[0m\u001b[0;34m\u001b[0m\u001b[0m\n\u001b[0m",
      "\u001b[0;31mNameError\u001b[0m: name 'names' is not defined"
     ]
    }
   ],
   "source": [
    "print(names['query'][:10], names_uc['query'][:10])"
   ]
  },
  {
   "cell_type": "code",
   "execution_count": 4,
   "metadata": {},
   "outputs": [
    {
     "ename": "NameError",
     "evalue": "name 'labels_uc' is not defined",
     "output_type": "error",
     "traceback": [
      "\u001b[0;31m---------------------------------------------------------------------------\u001b[0m",
      "\u001b[0;31mNameError\u001b[0m                                 Traceback (most recent call last)",
      "\u001b[0;32m<ipython-input-4-fd617ca29b95>\u001b[0m in \u001b[0;36m<module>\u001b[0;34m\u001b[0m\n\u001b[0;32m----> 1\u001b[0;31m \u001b[0mprint\u001b[0m\u001b[0;34m(\u001b[0m\u001b[0mlabels_uc\u001b[0m\u001b[0;34m)\u001b[0m\u001b[0;34m\u001b[0m\u001b[0m\n\u001b[0m",
      "\u001b[0;31mNameError\u001b[0m: name 'labels_uc' is not defined"
     ]
    }
   ],
   "source": [
    "print(labels_uc)"
   ]
  },
  {
   "cell_type": "code",
   "execution_count": 5,
   "metadata": {},
   "outputs": [
    {
     "data": {
      "text/plain": [
       "\"uc_better = []\\ntc_better = []\\nuc_better_score = 0\\ntc_better_score = 0\\nCMC = torch.IntTensor(20).zero_()\\nap = 0.0\\nCMC_better = torch.IntTensor(20).zero_()\\nap_better = 0.0\\nCMC_uc = torch.IntTensor(20).zero_()\\nap_uc = 0.0\\n#for i in range(len(labels['query'])):\\nfor j in range(1):\\n    i = 6\\n    score = torch.mm(features['gallery'], features['query'][i].view(-1, 1))\\n    score = score.squeeze(1).cpu().numpy()\\n    ap_tmp, CMC_tmp = evaluate(score, labels['query'][i], [], labels['gallery'], [])\\n    score_uc = torch.mm(features_uc['gallery'], features_uc['query'][i].view(-1, 1))\\n    score_uc = score_uc.squeeze(1).cpu().numpy()\\n    ap_tmp_uc, CMC_tmp_uc = evaluate(score_uc, labels['query'][i], [], labels['gallery'], [])\\n    if ap_tmp_uc > ap_tmp:\\n        uc_better.append(i)\\n        uc_better_score += (ap_tmp_uc-ap_tmp)\\n        CMC_better += CMC_tmp_uc\\n        ap_better += ap_tmp_uc\\n    elif ap_tmp_uc < ap_tmp:\\n        tc_better.append(i)\\n        tc_better_score += (-ap_tmp_uc+ap_tmp)\\n        CMC_better += CMC_tmp\\n        ap_better += ap_tmp\\n    else:\\n        CMC_better += CMC_tmp\\n        ap_better += ap_tmp\\n    if CMC_tmp[0] == -1:\\n            continue\\n    CMC += CMC_tmp\\n    ap += ap_tmp\\n    CMC_uc += CMC_tmp_uc\\n    ap_uc += ap_tmp_uc\\n#print(CMC, CMC_better, CMC_uc, ap, ap_better, ap_uc)\\n\""
      ]
     },
     "execution_count": 5,
     "metadata": {},
     "output_type": "execute_result"
    }
   ],
   "source": [
    "\n",
    "'''uc_better = []\n",
    "tc_better = []\n",
    "uc_better_score = 0\n",
    "tc_better_score = 0\n",
    "CMC = torch.IntTensor(20).zero_()\n",
    "ap = 0.0\n",
    "CMC_better = torch.IntTensor(20).zero_()\n",
    "ap_better = 0.0\n",
    "CMC_uc = torch.IntTensor(20).zero_()\n",
    "ap_uc = 0.0\n",
    "#for i in range(len(labels['query'])):\n",
    "for j in range(1):\n",
    "    i = 6\n",
    "    score = torch.mm(features['gallery'], features['query'][i].view(-1, 1))\n",
    "    score = score.squeeze(1).cpu().numpy()\n",
    "    ap_tmp, CMC_tmp = evaluate(score, labels['query'][i], [], labels['gallery'], [])\n",
    "    score_uc = torch.mm(features_uc['gallery'], features_uc['query'][i].view(-1, 1))\n",
    "    score_uc = score_uc.squeeze(1).cpu().numpy()\n",
    "    ap_tmp_uc, CMC_tmp_uc = evaluate(score_uc, labels['query'][i], [], labels['gallery'], [])\n",
    "    if ap_tmp_uc > ap_tmp:\n",
    "        uc_better.append(i)\n",
    "        uc_better_score += (ap_tmp_uc-ap_tmp)\n",
    "        CMC_better += CMC_tmp_uc\n",
    "        ap_better += ap_tmp_uc\n",
    "    elif ap_tmp_uc < ap_tmp:\n",
    "        tc_better.append(i)\n",
    "        tc_better_score += (-ap_tmp_uc+ap_tmp)\n",
    "        CMC_better += CMC_tmp\n",
    "        ap_better += ap_tmp\n",
    "    else:\n",
    "        CMC_better += CMC_tmp\n",
    "        ap_better += ap_tmp\n",
    "    if CMC_tmp[0] == -1:\n",
    "            continue\n",
    "    CMC += CMC_tmp\n",
    "    ap += ap_tmp\n",
    "    CMC_uc += CMC_tmp_uc\n",
    "    ap_uc += ap_tmp_uc\n",
    "#print(CMC, CMC_better, CMC_uc, ap, ap_better, ap_uc)\n",
    "'''"
   ]
  },
  {
   "cell_type": "code",
   "execution_count": 6,
   "metadata": {},
   "outputs": [
    {
     "ename": "NameError",
     "evalue": "name 'uc_better' is not defined",
     "output_type": "error",
     "traceback": [
      "\u001b[0;31m---------------------------------------------------------------------------\u001b[0m",
      "\u001b[0;31mNameError\u001b[0m                                 Traceback (most recent call last)",
      "\u001b[0;32m<ipython-input-6-09d22bfe6f86>\u001b[0m in \u001b[0;36m<module>\u001b[0;34m\u001b[0m\n\u001b[0;32m----> 1\u001b[0;31m \u001b[0mprint\u001b[0m\u001b[0;34m(\u001b[0m\u001b[0muc_better\u001b[0m\u001b[0;34m,\u001b[0m \u001b[0;34m\"   \"\u001b[0m\u001b[0;34m,\u001b[0m \u001b[0muc_better_score\u001b[0m\u001b[0;34m,\u001b[0m \u001b[0;34m\"  \"\u001b[0m\u001b[0;34m,\u001b[0m \u001b[0mlen\u001b[0m\u001b[0;34m(\u001b[0m\u001b[0muc_better\u001b[0m\u001b[0;34m)\u001b[0m\u001b[0;34m)\u001b[0m\u001b[0;34m\u001b[0m\u001b[0m\n\u001b[0m",
      "\u001b[0;31mNameError\u001b[0m: name 'uc_better' is not defined"
     ]
    }
   ],
   "source": [
    "print(uc_better, \"   \", uc_better_score, \"  \", len(uc_better))"
   ]
  },
  {
   "cell_type": "code",
   "execution_count": 7,
   "metadata": {},
   "outputs": [
    {
     "ename": "NameError",
     "evalue": "name 'tc_better' is not defined",
     "output_type": "error",
     "traceback": [
      "\u001b[0;31m---------------------------------------------------------------------------\u001b[0m",
      "\u001b[0;31mNameError\u001b[0m                                 Traceback (most recent call last)",
      "\u001b[0;32m<ipython-input-7-5a8911b930c1>\u001b[0m in \u001b[0;36m<module>\u001b[0;34m\u001b[0m\n\u001b[0;32m----> 1\u001b[0;31m \u001b[0mprint\u001b[0m\u001b[0;34m(\u001b[0m\u001b[0mtc_better\u001b[0m\u001b[0;34m,\u001b[0m \u001b[0;34m\"   \"\u001b[0m\u001b[0;34m,\u001b[0m \u001b[0mtc_better_score\u001b[0m\u001b[0;34m,\u001b[0m \u001b[0;34m\"  \"\u001b[0m\u001b[0;34m,\u001b[0m \u001b[0mlen\u001b[0m\u001b[0;34m(\u001b[0m\u001b[0mtc_better\u001b[0m\u001b[0;34m)\u001b[0m \u001b[0;34m)\u001b[0m\u001b[0;34m\u001b[0m\u001b[0m\n\u001b[0m",
      "\u001b[0;31mNameError\u001b[0m: name 'tc_better' is not defined"
     ]
    }
   ],
   "source": [
    "print(tc_better, \"   \", tc_better_score, \"  \", len(tc_better) )"
   ]
  },
  {
   "cell_type": "code",
   "execution_count": 8,
   "metadata": {},
   "outputs": [
    {
     "ename": "NameError",
     "evalue": "name 'features' is not defined",
     "output_type": "error",
     "traceback": [
      "\u001b[0;31m---------------------------------------------------------------------------\u001b[0m",
      "\u001b[0;31mNameError\u001b[0m                                 Traceback (most recent call last)",
      "\u001b[0;32m<ipython-input-8-660fa0875a19>\u001b[0m in \u001b[0;36m<module>\u001b[0;34m\u001b[0m\n\u001b[0;32m----> 1\u001b[0;31m \u001b[0;34m(\u001b[0m\u001b[0mfeatures\u001b[0m\u001b[0;34m[\u001b[0m\u001b[0;34m'gallery'\u001b[0m\u001b[0;34m]\u001b[0m\u001b[0;34m+\u001b[0m\u001b[0mfeatures_uc\u001b[0m\u001b[0;34m[\u001b[0m\u001b[0;34m'gallery'\u001b[0m\u001b[0;34m]\u001b[0m\u001b[0;34m)\u001b[0m\u001b[0;34m.\u001b[0m\u001b[0msize\u001b[0m\u001b[0;34m(\u001b[0m\u001b[0;34m)\u001b[0m\u001b[0;34m\u001b[0m\u001b[0m\n\u001b[0m\u001b[1;32m      2\u001b[0m \u001b[0;34m(\u001b[0m\u001b[0mfeatures\u001b[0m\u001b[0;34m[\u001b[0m\u001b[0;34m'query'\u001b[0m\u001b[0;34m]\u001b[0m\u001b[0;34m+\u001b[0m\u001b[0mfeatures_uc\u001b[0m\u001b[0;34m[\u001b[0m\u001b[0;34m'query'\u001b[0m\u001b[0;34m]\u001b[0m\u001b[0;34m)\u001b[0m\u001b[0;34m.\u001b[0m\u001b[0msize\u001b[0m\u001b[0;34m(\u001b[0m\u001b[0;34m)\u001b[0m\u001b[0;34m\u001b[0m\u001b[0m\n",
      "\u001b[0;31mNameError\u001b[0m: name 'features' is not defined"
     ]
    }
   ],
   "source": [
    "(features['gallery']+features_uc['gallery']).size()\n",
    "(features['query']+features_uc['query']).size()"
   ]
  },
  {
   "cell_type": "code",
   "execution_count": 9,
   "metadata": {},
   "outputs": [
    {
     "ename": "NameError",
     "evalue": "name 'torch' is not defined",
     "output_type": "error",
     "traceback": [
      "\u001b[0;31m---------------------------------------------------------------------------\u001b[0m",
      "\u001b[0;31mNameError\u001b[0m                                 Traceback (most recent call last)",
      "\u001b[0;32m<ipython-input-9-02bfa09acbb9>\u001b[0m in \u001b[0;36m<module>\u001b[0;34m\u001b[0m\n\u001b[0;32m----> 1\u001b[0;31m \u001b[0mCMC\u001b[0m \u001b[0;34m=\u001b[0m \u001b[0mtorch\u001b[0m\u001b[0;34m.\u001b[0m\u001b[0mIntTensor\u001b[0m\u001b[0;34m(\u001b[0m\u001b[0;36m20\u001b[0m\u001b[0;34m)\u001b[0m\u001b[0;34m.\u001b[0m\u001b[0mzero_\u001b[0m\u001b[0;34m(\u001b[0m\u001b[0;34m)\u001b[0m\u001b[0;34m\u001b[0m\u001b[0m\n\u001b[0m\u001b[1;32m      2\u001b[0m \u001b[0map\u001b[0m \u001b[0;34m=\u001b[0m \u001b[0;36m0.0\u001b[0m\u001b[0;34m\u001b[0m\u001b[0m\n\u001b[1;32m      3\u001b[0m \u001b[0mCMC_better\u001b[0m \u001b[0;34m=\u001b[0m \u001b[0mtorch\u001b[0m\u001b[0;34m.\u001b[0m\u001b[0mIntTensor\u001b[0m\u001b[0;34m(\u001b[0m\u001b[0;36m20\u001b[0m\u001b[0;34m)\u001b[0m\u001b[0;34m.\u001b[0m\u001b[0mzero_\u001b[0m\u001b[0;34m(\u001b[0m\u001b[0;34m)\u001b[0m\u001b[0;34m\u001b[0m\u001b[0m\n\u001b[1;32m      4\u001b[0m \u001b[0map_better\u001b[0m \u001b[0;34m=\u001b[0m \u001b[0;36m0.0\u001b[0m\u001b[0;34m\u001b[0m\u001b[0m\n\u001b[1;32m      5\u001b[0m \u001b[0mCMC_uc\u001b[0m \u001b[0;34m=\u001b[0m \u001b[0mtorch\u001b[0m\u001b[0;34m.\u001b[0m\u001b[0mIntTensor\u001b[0m\u001b[0;34m(\u001b[0m\u001b[0;36m20\u001b[0m\u001b[0;34m)\u001b[0m\u001b[0;34m.\u001b[0m\u001b[0mzero_\u001b[0m\u001b[0;34m(\u001b[0m\u001b[0;34m)\u001b[0m\u001b[0;34m\u001b[0m\u001b[0m\n",
      "\u001b[0;31mNameError\u001b[0m: name 'torch' is not defined"
     ]
    }
   ],
   "source": [
    "CMC = torch.IntTensor(20).zero_()\n",
    "ap = 0.0\n",
    "CMC_better = torch.IntTensor(20).zero_()\n",
    "ap_better = 0.0\n",
    "CMC_uc = torch.IntTensor(20).zero_()\n",
    "ap_uc = 0.0\n",
    "ap_map_values = {}\n",
    "for i in range(len(labels['query'])):\n",
    "#for j in range(1):\n",
    "    #i = 19\n",
    "    score = torch.mm(features_uc['gallery'], (features_uc['query'][i]).view(-1, 1))\n",
    "    #score = torch.mm(features['gallery'], (features['query'][i]).view(-1, 1))\n",
    "    score = score.squeeze(1).cpu().numpy()\n",
    "    ap_tmp, CMC_tmp = evaluate(score, labels['query'][i], [], labels['gallery'], [])\n",
    "    ap_map_values[labels['query'][i]] = ap_tmp\n",
    "    if CMC_tmp[0] == -1:\n",
    "            continue\n",
    "    CMC += CMC_tmp\n",
    "    ap += ap_tmp"
   ]
  },
  {
   "cell_type": "code",
   "execution_count": 225,
   "metadata": {},
   "outputs": [
    {
     "name": "stdout",
     "output_type": "stream",
     "text": [
      "top1: 0.8267, top5: 0.9133, top10: 0.9600, mAP: 0.6871\n"
     ]
    }
   ],
   "source": [
    "CMC = CMC.float()\n",
    "CMC /= len(labels['query'])\n",
    "ap /= len(labels['query'])\n",
    "\n",
    "print('top1: %.4f, top5: %.4f, top10: %.4f, mAP: %.4f' % (CMC[0], CMC[4], CMC[9], ap))"
   ]
  },
  {
   "cell_type": "code",
   "execution_count": 228,
   "metadata": {},
   "outputs": [
    {
     "name": "stdout",
     "output_type": "stream",
     "text": [
      "OrderedDict([(84, 0.0038910309637632465), (105, 0.007044853812959166), (40, 0.023094051318796105), (139, 0.029788318586734076), (148, 0.0331538192439588), (36, 0.038212111573071486), (140, 0.04755481683231044), (118, 0.05608598708593367), (47, 0.06417353978628487), (1, 0.06677736006683374), (108, 0.06699148038662105), (54, 0.0675258742299251), (22, 0.09727077001013171), (138, 0.10073375262054507), (11, 0.10103874883286648), (103, 0.10246993404888141), (44, 0.14494301994301995), (107, 0.1549206349206349), (18, 0.21220238095238092), (142, 0.26068376068376065), (111, 0.2714285714285714), (48, 0.27400793650793653), (45, 0.29994468152362885), (144, 0.3194444444444444), (141, 0.33949017380351737), (12, 0.3471745123288008), (119, 0.3530394801454584), (7, 0.3574374779637937), (15, 0.3576331594752647), (34, 0.36398183484015567), (49, 0.37017003234548473), (6, 0.37222222222222223), (26, 0.3771576553313205), (37, 0.37777777777777777), (143, 0.38869047619047614), (9, 0.39383800563236043), (19, 0.39421987598458186), (57, 0.40800642479213906), (20, 0.4081893348197696), (39, 0.40998069498069495), (4, 0.41050585217251884), (62, 0.41552287581699343), (106, 0.43000610500610503), (13, 0.4337752525252525), (150, 0.44859991039426517), (16, 0.45227272727272727), (41, 0.4561157796451914), (123, 0.4627136752136752), (126, 0.4806998556998557), (28, 0.49513888888888885), (29, 0.496031746031746), (8, 0.5059523809523809), (136, 0.5059523809523809), (42, 0.5328715480406336), (27, 0.5388888888888889), (33, 0.6148148148148147), (25, 0.6249999999999999), (146, 0.6333333333333333), (46, 0.6378968253968254), (120, 0.6555555555555556), (32, 0.6555555555555556), (65, 0.6690640630693299), (113, 0.6693758196201193), (130, 0.670700248581211), (43, 0.6777777777777777), (24, 0.6900793650793651), (56, 0.7092105263157894), (64, 0.7092105263157894), (14, 0.7115009746588694), (10, 0.7329059829059829), (38, 0.7537037037037037), (96, 0.7537037037037037), (2, 0.7638888888888887), (50, 0.7767857142857142), (127, 0.7936507936507936), (60, 0.7936507936507936), (53, 0.7936507936507936), (51, 0.8166666666666667), (31, 0.8166666666666667), (3, 0.85), (122, 0.85), (102, 0.9027777777777777), (133, 0.9027777777777777), (121, 0.9027777777777777), (74, 0.9027777777777777), (145, 0.9027777777777777), (69, 0.9027777777777777), (134, 0.9027777777777777), (72, 1.0), (115, 1.0), (23, 1.0), (67, 1.0), (59, 1.0), (114, 1.0), (83, 1.0), (132, 1.0), (137, 1.0), (116, 1.0), (21, 1.0), (110, 1.0), (117, 1.0), (63, 1.0), (58, 1.0), (5, 1.0), (92, 1.0), (112, 1.0), (85, 1.0), (68, 1.0), (90, 1.0), (73, 1.0), (94, 1.0), (61, 1.0), (129, 1.0), (17, 1.0), (99, 1.0), (89, 1.0), (78, 1.0), (87, 1.0), (147, 1.0), (128, 1.0), (70, 1.0), (124, 1.0), (125, 1.0), (77, 1.0), (55, 1.0), (76, 1.0), (100, 1.0), (71, 1.0), (66, 1.0), (86, 1.0), (104, 1.0), (109, 1.0), (30, 1.0), (52, 1.0), (81, 1.0), (131, 1.0), (82, 1.0), (75, 1.0), (88, 1.0), (95, 1.0), (80, 1.0), (97, 1.0), (98, 1.0), (79, 1.0), (135, 1.0), (101, 1.0), (93, 1.0), (35, 1.0), (149, 1.0), (91, 1.0)])\n"
     ]
    }
   ],
   "source": [
    "from collections import OrderedDict\n",
    "from operator import itemgetter    \n",
    "ap_map_values = (OrderedDict(sorted(ap_map_values.items(), key = itemgetter(1), reverse = False)))\n",
    "print((ap_map_values))"
   ]
  },
  {
   "cell_type": "code",
   "execution_count": null,
   "metadata": {},
   "outputs": [],
   "source": []
  }
 ],
 "metadata": {
  "kernelspec": {
   "display_name": "Python 3",
   "language": "python",
   "name": "python3"
  },
  "language_info": {
   "codemirror_mode": {
    "name": "ipython",
    "version": 3
   },
   "file_extension": ".py",
   "mimetype": "text/x-python",
   "name": "python",
   "nbconvert_exporter": "python",
   "pygments_lexer": "ipython3",
   "version": "3.7.0"
  }
 },
 "nbformat": 4,
 "nbformat_minor": 2
}
