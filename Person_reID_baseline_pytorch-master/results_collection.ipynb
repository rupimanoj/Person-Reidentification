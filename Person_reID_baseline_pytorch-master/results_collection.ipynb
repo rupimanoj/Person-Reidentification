{
 "cells": [
  {
   "cell_type": "code",
   "execution_count": 1,
   "metadata": {},
   "outputs": [],
   "source": [
    "import subprocess\n",
    "import os\n",
    "import re\n",
    "import argparse"
   ]
  },
  {
   "cell_type": "code",
   "execution_count": 2,
   "metadata": {},
   "outputs": [],
   "source": [
    "#parser = argparse.ArgumentParser(description='results extraction')\n",
    "#parser.add_argument('--model_name',default='image_net_erasing', type=str, help='output model name')\n",
    "#opt = parser.parse_args()\n",
    "#model_name = opt.model_name\n",
    "#model_name = \"image_net_erasing\"\n",
    "model_name = \"mduke_all_3\"\n",
    "model_dir = \"model\"+\"/\"+model_name"
   ]
  },
  {
   "cell_type": "code",
   "execution_count": 3,
   "metadata": {},
   "outputs": [],
   "source": [
    "def get_epoch_list(model_name):\n",
    "    files_list = os.listdir(model_dir)\n",
    "    epochs_list = []\n",
    "    for name in files_list:\n",
    "        if \"net_\" in name and \".pth\" in name:\n",
    "            num = ((name.split(\"net_\"))[1].split(\".pth\")[0])\n",
    "            epochs_list.append(num)\n",
    "    return epochs_list"
   ]
  },
  {
   "cell_type": "code",
   "execution_count": 4,
   "metadata": {},
   "outputs": [],
   "source": [
    "def get_epoch_results(model_name):\n",
    "    f = open(model_dir + \"/epoch_results.txt\", \"w\")\n",
    "    epochs_list = get_epoch_list(model_name)\n",
    "    if('last' in epochs_list): \n",
    "        epochs_list.remove('last')\n",
    "        epochs_list.sort(key=lambda x: int(x), reverse=True)\n",
    "        epochs_list = ['last'] + epochs_list\n",
    "    else:\n",
    "        epochs_list.sort(key=lambda x: int(x), reverse=True)\n",
    "    for epoch_no in epochs_list[0:40]:\n",
    "        epoch_str = str(epoch_no)\n",
    "        command_list = [\"python\", \"extract.py\", \"--which_epoch\", epoch_str, \"--model_name\", model_name]\n",
    "        subprocess.call(command_list)\n",
    "        evaluate_command_list = [\"python\", \"evaluate_int.py\", \"--model_name\", model_name]\n",
    "        result = subprocess.check_output(evaluate_command_list)\n",
    "        result = \" model \" + model_name + \"  epoch_no: \" + epoch_str + \" ----> \" + str(result.decode(\"utf-8\"))\n",
    "        print(result)\n",
    "        f.write(result)"
   ]
  },
  {
   "cell_type": "code",
   "execution_count": 5,
   "metadata": {
    "scrolled": true
   },
   "outputs": [
    {
     "name": "stdout",
     "output_type": "stream",
     "text": [
      " model mduke_all_3  epoch_no: last ----> top1: 0.9600, top5: 0.9800, top10: 0.9933, mAP: 0.8750\n",
      "\n",
      " model mduke_all_3  epoch_no: 69 ----> top1: 0.9600, top5: 0.9800, top10: 0.9933, mAP: 0.8750\n",
      "\n",
      " model mduke_all_3  epoch_no: 68 ----> top1: 0.9600, top5: 0.9800, top10: 0.9933, mAP: 0.8721\n",
      "\n",
      " model mduke_all_3  epoch_no: 67 ----> top1: 0.9667, top5: 0.9867, top10: 0.9933, mAP: 0.8755\n",
      "\n",
      " model mduke_all_3  epoch_no: 66 ----> top1: 0.9533, top5: 0.9867, top10: 0.9933, mAP: 0.8724\n",
      "\n",
      " model mduke_all_3  epoch_no: 65 ----> top1: 0.9600, top5: 0.9800, top10: 0.9867, mAP: 0.8758\n",
      "\n",
      " model mduke_all_3  epoch_no: 64 ----> top1: 0.9600, top5: 0.9800, top10: 0.9867, mAP: 0.8744\n",
      "\n",
      " model mduke_all_3  epoch_no: 63 ----> top1: 0.9467, top5: 0.9800, top10: 0.9933, mAP: 0.8706\n",
      "\n",
      " model mduke_all_3  epoch_no: 62 ----> top1: 0.9600, top5: 0.9867, top10: 0.9933, mAP: 0.8731\n",
      "\n",
      " model mduke_all_3  epoch_no: 61 ----> top1: 0.9667, top5: 0.9867, top10: 0.9933, mAP: 0.8760\n",
      "\n",
      " model mduke_all_3  epoch_no: 60 ----> top1: 0.9667, top5: 0.9800, top10: 0.9933, mAP: 0.8746\n",
      "\n",
      " model mduke_all_3  epoch_no: 59 ----> top1: 0.9600, top5: 0.9800, top10: 0.9933, mAP: 0.8723\n",
      "\n",
      " model mduke_all_3  epoch_no: 58 ----> top1: 0.9667, top5: 0.9867, top10: 0.9867, mAP: 0.8735\n",
      "\n",
      " model mduke_all_3  epoch_no: 57 ----> top1: 0.9600, top5: 0.9800, top10: 0.9933, mAP: 0.8754\n",
      "\n",
      " model mduke_all_3  epoch_no: 56 ----> top1: 0.9600, top5: 0.9867, top10: 0.9933, mAP: 0.8795\n",
      "\n",
      " model mduke_all_3  epoch_no: 55 ----> top1: 0.9667, top5: 0.9867, top10: 0.9933, mAP: 0.8741\n",
      "\n",
      " model mduke_all_3  epoch_no: 54 ----> top1: 0.9600, top5: 0.9867, top10: 0.9933, mAP: 0.8734\n",
      "\n",
      " model mduke_all_3  epoch_no: 53 ----> top1: 0.9533, top5: 0.9800, top10: 0.9933, mAP: 0.8742\n",
      "\n",
      " model mduke_all_3  epoch_no: 52 ----> top1: 0.9400, top5: 0.9867, top10: 0.9867, mAP: 0.8657\n",
      "\n",
      " model mduke_all_3  epoch_no: 51 ----> top1: 0.9533, top5: 0.9867, top10: 0.9933, mAP: 0.8722\n",
      "\n",
      " model mduke_all_3  epoch_no: 50 ----> top1: 0.9467, top5: 0.9800, top10: 0.9933, mAP: 0.8665\n",
      "\n",
      " model mduke_all_3  epoch_no: 49 ----> top1: 0.9600, top5: 0.9867, top10: 0.9933, mAP: 0.8769\n",
      "\n",
      " model mduke_all_3  epoch_no: 48 ----> top1: 0.9667, top5: 0.9867, top10: 0.9933, mAP: 0.8761\n",
      "\n",
      " model mduke_all_3  epoch_no: 47 ----> top1: 0.9467, top5: 0.9867, top10: 0.9867, mAP: 0.8691\n",
      "\n",
      " model mduke_all_3  epoch_no: 46 ----> top1: 0.9533, top5: 0.9800, top10: 0.9867, mAP: 0.8737\n",
      "\n",
      " model mduke_all_3  epoch_no: 45 ----> top1: 0.9467, top5: 0.9800, top10: 0.9867, mAP: 0.8626\n",
      "\n",
      " model mduke_all_3  epoch_no: 44 ----> top1: 0.9600, top5: 0.9800, top10: 0.9867, mAP: 0.8745\n",
      "\n",
      " model mduke_all_3  epoch_no: 43 ----> top1: 0.9467, top5: 0.9867, top10: 0.9933, mAP: 0.8683\n",
      "\n",
      " model mduke_all_3  epoch_no: 42 ----> top1: 0.9467, top5: 0.9800, top10: 0.9867, mAP: 0.8654\n",
      "\n",
      " model mduke_all_3  epoch_no: 41 ----> top1: 0.9533, top5: 0.9800, top10: 0.9800, mAP: 0.8701\n",
      "\n",
      " model mduke_all_3  epoch_no: 40 ----> top1: 0.9467, top5: 0.9800, top10: 0.9933, mAP: 0.8663\n",
      "\n",
      " model mduke_all_3  epoch_no: 39 ----> top1: 0.9533, top5: 0.9867, top10: 0.9867, mAP: 0.8717\n",
      "\n",
      " model mduke_all_3  epoch_no: 38 ----> top1: 0.9533, top5: 0.9867, top10: 0.9867, mAP: 0.8665\n",
      "\n",
      " model mduke_all_3  epoch_no: 37 ----> top1: 0.9467, top5: 0.9867, top10: 0.9867, mAP: 0.8616\n",
      "\n",
      " model mduke_all_3  epoch_no: 36 ----> top1: 0.9533, top5: 0.9867, top10: 0.9867, mAP: 0.8629\n",
      "\n",
      " model mduke_all_3  epoch_no: 34 ----> top1: 0.9333, top5: 0.9800, top10: 0.9800, mAP: 0.8609\n",
      "\n",
      " model mduke_all_3  epoch_no: 29 ----> top1: 0.9533, top5: 0.9800, top10: 0.9800, mAP: 0.8466\n",
      "\n",
      " model mduke_all_3  epoch_no: 24 ----> top1: 0.9667, top5: 0.9867, top10: 0.9867, mAP: 0.8446\n",
      "\n",
      " model mduke_all_3  epoch_no: 19 ----> top1: 0.9533, top5: 0.9867, top10: 0.9867, mAP: 0.8609\n",
      "\n",
      " model mduke_all_3  epoch_no: 14 ----> top1: 0.9400, top5: 0.9867, top10: 0.9867, mAP: 0.8511\n",
      "\n"
     ]
    }
   ],
   "source": [
    "get_epoch_results(model_name)"
   ]
  },
  {
   "cell_type": "code",
   "execution_count": null,
   "metadata": {},
   "outputs": [],
   "source": []
  }
 ],
 "metadata": {
  "kernelspec": {
   "display_name": "Python 3",
   "language": "python",
   "name": "python3"
  },
  "language_info": {
   "codemirror_mode": {
    "name": "ipython",
    "version": 3
   },
   "file_extension": ".py",
   "mimetype": "text/x-python",
   "name": "python",
   "nbconvert_exporter": "python",
   "pygments_lexer": "ipython3",
   "version": "3.7.0"
  }
 },
 "nbformat": 4,
 "nbformat_minor": 2
}
